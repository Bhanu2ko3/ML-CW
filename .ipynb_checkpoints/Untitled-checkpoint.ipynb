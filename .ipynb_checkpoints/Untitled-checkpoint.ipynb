{
 "cells": [
  {
   "cell_type": "code",
   "execution_count": 10,
   "id": "8a9d36b7-1de2-414b-aa04-e3b70b988000",
   "metadata": {},
   "outputs": [
    {
     "name": "stdout",
     "output_type": "stream",
     "text": [
      "<class 'pandas.core.frame.DataFrame'>\n",
      "RangeIndex: 10000 entries, 0 to 9999\n",
      "Data columns (total 10 columns):\n",
      " #   Column        Non-Null Count  Dtype  \n",
      "---  ------        --------------  -----  \n",
      " 0   Date          10000 non-null  object \n",
      " 1   DayOfWeek     10000 non-null  object \n",
      " 2   FoodItem      10000 non-null  object \n",
      " 3   Category      10000 non-null  object \n",
      " 4   Quantity      10000 non-null  int64  \n",
      " 5   PricePerItem  10000 non-null  float64\n",
      " 6   TotalSales    10000 non-null  float64\n",
      " 7   CustomerType  10000 non-null  object \n",
      " 8   Weather       10000 non-null  object \n",
      " 9   SpecialEvent  2916 non-null   object \n",
      "dtypes: float64(2), int64(1), object(7)\n",
      "memory usage: 781.4+ KB\n"
     ]
    },
    {
     "data": {
      "text/plain": [
       "(None,\n",
       "          Date DayOfWeek FoodItem     Category  Quantity  PricePerItem  \\\n",
       " 0  2024-06-11   Tuesday    Pizza  Main Course         1         23.54   \n",
       " 1  2024-07-18  Thursday   Coffee        Drink         2         19.76   \n",
       " 2  2024-08-13   Tuesday   Coffee        Drink        10          5.66   \n",
       " 3  2024-12-28  Saturday    Tacos  Main Course         4         16.23   \n",
       " 4  2025-02-02    Sunday    Pasta  Main Course         7         13.51   \n",
       " \n",
       "    TotalSales CustomerType Weather SpecialEvent  \n",
       " 0       23.54      Regular   Rainy      Holiday  \n",
       " 1       39.52      Regular   Sunny          NaN  \n",
       " 2       56.60      Regular  Cloudy      Holiday  \n",
       " 3       64.92      Regular   Sunny      Holiday  \n",
       " 4       94.57      Regular    Cold          NaN  )"
      ]
     },
     "execution_count": 10,
     "metadata": {},
     "output_type": "execute_result"
    }
   ],
   "source": [
    "import pandas as pd\n",
    "\n",
    "# Load the dataset\n",
    "file_path = \"restaurant_purchases.csv\"\n",
    "df = pd.read_csv(file_path)\n",
    "\n",
    "# Display basic info and first few rows\n",
    "df.info(), df.head()\n"
   ]
  },
  {
   "cell_type": "code",
   "execution_count": 12,
   "id": "56c6f5c1-e5e7-481e-bc6e-fc393dd8cbf5",
   "metadata": {},
   "outputs": [
    {
     "data": {
      "text/html": [
       "<div>\n",
       "<style scoped>\n",
       "    .dataframe tbody tr th:only-of-type {\n",
       "        vertical-align: middle;\n",
       "    }\n",
       "\n",
       "    .dataframe tbody tr th {\n",
       "        vertical-align: top;\n",
       "    }\n",
       "\n",
       "    .dataframe thead th {\n",
       "        text-align: right;\n",
       "    }\n",
       "</style>\n",
       "<table border=\"1\" class=\"dataframe\">\n",
       "  <thead>\n",
       "    <tr style=\"text-align: right;\">\n",
       "      <th></th>\n",
       "      <th>Date</th>\n",
       "      <th>DayOfWeek</th>\n",
       "      <th>FoodItem</th>\n",
       "      <th>Category</th>\n",
       "      <th>Quantity</th>\n",
       "      <th>PricePerItem</th>\n",
       "      <th>TotalSales</th>\n",
       "      <th>CustomerType</th>\n",
       "      <th>Weather</th>\n",
       "      <th>SpecialEvent</th>\n",
       "    </tr>\n",
       "  </thead>\n",
       "  <tbody>\n",
       "    <tr>\n",
       "      <th>0</th>\n",
       "      <td>2024-06-11</td>\n",
       "      <td>5</td>\n",
       "      <td>4</td>\n",
       "      <td>3</td>\n",
       "      <td>-1.554206</td>\n",
       "      <td>0.821863</td>\n",
       "      <td>23.54</td>\n",
       "      <td>2</td>\n",
       "      <td>2</td>\n",
       "      <td>2</td>\n",
       "    </tr>\n",
       "    <tr>\n",
       "      <th>1</th>\n",
       "      <td>2024-07-18</td>\n",
       "      <td>4</td>\n",
       "      <td>1</td>\n",
       "      <td>2</td>\n",
       "      <td>-1.206874</td>\n",
       "      <td>0.299644</td>\n",
       "      <td>39.52</td>\n",
       "      <td>2</td>\n",
       "      <td>4</td>\n",
       "      <td>4</td>\n",
       "    </tr>\n",
       "    <tr>\n",
       "      <th>2</th>\n",
       "      <td>2024-08-13</td>\n",
       "      <td>5</td>\n",
       "      <td>1</td>\n",
       "      <td>2</td>\n",
       "      <td>1.571781</td>\n",
       "      <td>-1.648317</td>\n",
       "      <td>56.60</td>\n",
       "      <td>2</td>\n",
       "      <td>0</td>\n",
       "      <td>2</td>\n",
       "    </tr>\n",
       "    <tr>\n",
       "      <th>3</th>\n",
       "      <td>2024-12-28</td>\n",
       "      <td>2</td>\n",
       "      <td>8</td>\n",
       "      <td>3</td>\n",
       "      <td>-0.512210</td>\n",
       "      <td>-0.188037</td>\n",
       "      <td>64.92</td>\n",
       "      <td>2</td>\n",
       "      <td>4</td>\n",
       "      <td>2</td>\n",
       "    </tr>\n",
       "    <tr>\n",
       "      <th>4</th>\n",
       "      <td>2025-02-02</td>\n",
       "      <td>3</td>\n",
       "      <td>3</td>\n",
       "      <td>3</td>\n",
       "      <td>0.529785</td>\n",
       "      <td>-0.563814</td>\n",
       "      <td>94.57</td>\n",
       "      <td>2</td>\n",
       "      <td>1</td>\n",
       "      <td>4</td>\n",
       "    </tr>\n",
       "  </tbody>\n",
       "</table>\n",
       "</div>"
      ],
      "text/plain": [
       "         Date  DayOfWeek  FoodItem  Category  Quantity  PricePerItem  \\\n",
       "0  2024-06-11          5         4         3 -1.554206      0.821863   \n",
       "1  2024-07-18          4         1         2 -1.206874      0.299644   \n",
       "2  2024-08-13          5         1         2  1.571781     -1.648317   \n",
       "3  2024-12-28          2         8         3 -0.512210     -0.188037   \n",
       "4  2025-02-02          3         3         3  0.529785     -0.563814   \n",
       "\n",
       "   TotalSales  CustomerType  Weather  SpecialEvent  \n",
       "0       23.54             2        2             2  \n",
       "1       39.52             2        4             4  \n",
       "2       56.60             2        0             2  \n",
       "3       64.92             2        4             2  \n",
       "4       94.57             2        1             4  "
      ]
     },
     "execution_count": 12,
     "metadata": {},
     "output_type": "execute_result"
    }
   ],
   "source": [
    "from sklearn.preprocessing import LabelEncoder, StandardScaler\n",
    "\n",
    "# Identify categorical columns\n",
    "categorical_columns = [\"DayOfWeek\", \"FoodItem\", \"Category\", \"CustomerType\", \"Weather\", \"SpecialEvent\"]\n",
    "\n",
    "# Apply Label Encoding\n",
    "label_encoders = {}\n",
    "for col in categorical_columns:\n",
    "    le = LabelEncoder()\n",
    "    df[col] = le.fit_transform(df[col])\n",
    "    label_encoders[col] = le\n",
    "\n",
    "# Scale numerical features\n",
    "scaler = StandardScaler()\n",
    "df[[\"Quantity\", \"PricePerItem\"]] = scaler.fit_transform(df[[\"Quantity\", \"PricePerItem\"]])\n",
    "\n",
    "# Display processed dataset\n",
    "df.head()\n"
   ]
  },
  {
   "cell_type": "code",
   "execution_count": 14,
   "id": "1146ec4c-a62c-4c0d-b03f-792c325ff281",
   "metadata": {},
   "outputs": [
    {
     "data": {
      "text/plain": [
       "0.890266284492669"
      ]
     },
     "execution_count": 14,
     "metadata": {},
     "output_type": "execute_result"
    }
   ],
   "source": [
    "from sklearn.svm import SVR\n",
    "from sklearn.model_selection import train_test_split\n",
    "\n",
    "# Define features (X) and target (y)\n",
    "X = df.drop(columns=[\"Date\", \"TotalSales\"])  # Drop non-relevant columns\n",
    "y = df[\"TotalSales\"]\n",
    "\n",
    "# Split data into training and testing sets\n",
    "X_train, X_test, y_train, y_test = train_test_split(X, y, test_size=0.2, random_state=42)\n",
    "\n",
    "# Train an SVM model\n",
    "svm_model = SVR(kernel=\"rbf\")\n",
    "svm_model.fit(X_train, y_train)\n",
    "\n",
    "# Evaluate the model on test data\n",
    "svm_score = svm_model.score(X_test, y_test)\n",
    "svm_score\n"
   ]
  },
  {
   "cell_type": "code",
   "execution_count": 18,
   "id": "88eac751-fc7f-4ad4-ba1e-0828cde9e8a7",
   "metadata": {},
   "outputs": [
    {
     "ename": "ValueError",
     "evalue": "y contains previously unseen labels: 'FastFood'",
     "output_type": "error",
     "traceback": [
      "\u001b[1;31m---------------------------------------------------------------------------\u001b[0m",
      "\u001b[1;31mKeyError\u001b[0m                                  Traceback (most recent call last)",
      "File \u001b[1;32m~\\anaconda3\\Lib\\site-packages\\sklearn\\utils\\_encode.py:225\u001b[0m, in \u001b[0;36m_encode\u001b[1;34m(values, uniques, check_unknown)\u001b[0m\n\u001b[0;32m    224\u001b[0m \u001b[38;5;28;01mtry\u001b[39;00m:\n\u001b[1;32m--> 225\u001b[0m     \u001b[38;5;28;01mreturn\u001b[39;00m _map_to_integer(values, uniques)\n\u001b[0;32m    226\u001b[0m \u001b[38;5;28;01mexcept\u001b[39;00m \u001b[38;5;167;01mKeyError\u001b[39;00m \u001b[38;5;28;01mas\u001b[39;00m e:\n",
      "File \u001b[1;32m~\\anaconda3\\Lib\\site-packages\\sklearn\\utils\\_encode.py:165\u001b[0m, in \u001b[0;36m_map_to_integer\u001b[1;34m(values, uniques)\u001b[0m\n\u001b[0;32m    164\u001b[0m table \u001b[38;5;241m=\u001b[39m _nandict({val: i \u001b[38;5;28;01mfor\u001b[39;00m i, val \u001b[38;5;129;01min\u001b[39;00m \u001b[38;5;28menumerate\u001b[39m(uniques)})\n\u001b[1;32m--> 165\u001b[0m \u001b[38;5;28;01mreturn\u001b[39;00m np\u001b[38;5;241m.\u001b[39marray([table[v] \u001b[38;5;28;01mfor\u001b[39;00m v \u001b[38;5;129;01min\u001b[39;00m values])\n",
      "File \u001b[1;32m~\\anaconda3\\Lib\\site-packages\\sklearn\\utils\\_encode.py:159\u001b[0m, in \u001b[0;36m_nandict.__missing__\u001b[1;34m(self, key)\u001b[0m\n\u001b[0;32m    158\u001b[0m     \u001b[38;5;28;01mreturn\u001b[39;00m \u001b[38;5;28mself\u001b[39m\u001b[38;5;241m.\u001b[39mnan_value\n\u001b[1;32m--> 159\u001b[0m \u001b[38;5;28;01mraise\u001b[39;00m \u001b[38;5;167;01mKeyError\u001b[39;00m(key)\n",
      "\u001b[1;31mKeyError\u001b[0m: 'FastFood'",
      "\nDuring handling of the above exception, another exception occurred:\n",
      "\u001b[1;31mValueError\u001b[0m                                Traceback (most recent call last)",
      "Cell \u001b[1;32mIn[18], line 18\u001b[0m\n\u001b[0;32m     16\u001b[0m \u001b[38;5;66;03m# Encode categorical variables\u001b[39;00m\n\u001b[0;32m     17\u001b[0m \u001b[38;5;28;01mfor\u001b[39;00m col \u001b[38;5;129;01min\u001b[39;00m categorical_columns:\n\u001b[1;32m---> 18\u001b[0m     manual_df[col] \u001b[38;5;241m=\u001b[39m label_encoders[col]\u001b[38;5;241m.\u001b[39mtransform(manual_df[col])\n\u001b[0;32m     20\u001b[0m \u001b[38;5;66;03m# Scale numerical features\u001b[39;00m\n\u001b[0;32m     21\u001b[0m manual_df[[\u001b[38;5;124m\"\u001b[39m\u001b[38;5;124mQuantity\u001b[39m\u001b[38;5;124m\"\u001b[39m, \u001b[38;5;124m\"\u001b[39m\u001b[38;5;124mPricePerItem\u001b[39m\u001b[38;5;124m\"\u001b[39m]] \u001b[38;5;241m=\u001b[39m scaler\u001b[38;5;241m.\u001b[39mtransform(manual_df[[\u001b[38;5;124m\"\u001b[39m\u001b[38;5;124mQuantity\u001b[39m\u001b[38;5;124m\"\u001b[39m, \u001b[38;5;124m\"\u001b[39m\u001b[38;5;124mPricePerItem\u001b[39m\u001b[38;5;124m\"\u001b[39m]])\n",
      "File \u001b[1;32m~\\anaconda3\\Lib\\site-packages\\sklearn\\preprocessing\\_label.py:137\u001b[0m, in \u001b[0;36mLabelEncoder.transform\u001b[1;34m(self, y)\u001b[0m\n\u001b[0;32m    134\u001b[0m \u001b[38;5;28;01mif\u001b[39;00m _num_samples(y) \u001b[38;5;241m==\u001b[39m \u001b[38;5;241m0\u001b[39m:\n\u001b[0;32m    135\u001b[0m     \u001b[38;5;28;01mreturn\u001b[39;00m np\u001b[38;5;241m.\u001b[39marray([])\n\u001b[1;32m--> 137\u001b[0m \u001b[38;5;28;01mreturn\u001b[39;00m _encode(y, uniques\u001b[38;5;241m=\u001b[39m\u001b[38;5;28mself\u001b[39m\u001b[38;5;241m.\u001b[39mclasses_)\n",
      "File \u001b[1;32m~\\anaconda3\\Lib\\site-packages\\sklearn\\utils\\_encode.py:227\u001b[0m, in \u001b[0;36m_encode\u001b[1;34m(values, uniques, check_unknown)\u001b[0m\n\u001b[0;32m    225\u001b[0m         \u001b[38;5;28;01mreturn\u001b[39;00m _map_to_integer(values, uniques)\n\u001b[0;32m    226\u001b[0m     \u001b[38;5;28;01mexcept\u001b[39;00m \u001b[38;5;167;01mKeyError\u001b[39;00m \u001b[38;5;28;01mas\u001b[39;00m e:\n\u001b[1;32m--> 227\u001b[0m         \u001b[38;5;28;01mraise\u001b[39;00m \u001b[38;5;167;01mValueError\u001b[39;00m(\u001b[38;5;124mf\u001b[39m\u001b[38;5;124m\"\u001b[39m\u001b[38;5;124my contains previously unseen labels: \u001b[39m\u001b[38;5;132;01m{\u001b[39;00m\u001b[38;5;28mstr\u001b[39m(e)\u001b[38;5;132;01m}\u001b[39;00m\u001b[38;5;124m\"\u001b[39m)\n\u001b[0;32m    228\u001b[0m \u001b[38;5;28;01melse\u001b[39;00m:\n\u001b[0;32m    229\u001b[0m     \u001b[38;5;28;01mif\u001b[39;00m check_unknown:\n",
      "\u001b[1;31mValueError\u001b[0m: y contains previously unseen labels: 'FastFood'"
     ]
    }
   ],
   "source": [
    "# Manually created dataset for testing\n",
    "manual_data = {\n",
    "    \"DayOfWeek\": [\"Monday\", \"Wednesday\"],\n",
    "    \"FoodItem\": [\"Burger\", \"Pizza\"],\n",
    "    \"Category\": [\"Main Course\", \"Main Course\"],\n",
    "    \"CustomerType\": [\"New\", \"Returning\"],\n",
    "    \"Weather\": [\"Sunny\", \"Rainy\"],\n",
    "    \"SpecialEvent\": [\"No\", \"Yes\"],\n",
    "    \"Quantity\": [2, 5],  \n",
    "    \"PricePerItem\": [10.5, 15.0]  \n",
    "}\n",
    "\n",
    "# Convert to DataFrame\n",
    "manual_df = pd.DataFrame(manual_data)\n",
    "\n",
    "# Encode categorical variables\n",
    "for col in categorical_columns:\n",
    "    manual_df[col] = label_encoders[col].transform(manual_df[col])\n",
    "\n",
    "# Scale numerical features\n",
    "manual_df[[\"Quantity\", \"PricePerItem\"]] = scaler.transform(manual_df[[\"Quantity\", \"PricePerItem\"]])\n",
    "\n",
    "# Predict TotalSales\n",
    "manual_predictions = svm_model.predict(manual_df)\n",
    "print(\"Predicted TotalSales for manual data:\", manual_predictions)\n"
   ]
  },
  {
   "cell_type": "code",
   "execution_count": null,
   "id": "e374dece-ce9b-4d08-ae56-0a0b20be6641",
   "metadata": {},
   "outputs": [],
   "source": []
  }
 ],
 "metadata": {
  "kernelspec": {
   "display_name": "Python [conda env:base] *",
   "language": "python",
   "name": "conda-base-py"
  },
  "language_info": {
   "codemirror_mode": {
    "name": "ipython",
    "version": 3
   },
   "file_extension": ".py",
   "mimetype": "text/x-python",
   "name": "python",
   "nbconvert_exporter": "python",
   "pygments_lexer": "ipython3",
   "version": "3.12.7"
  }
 },
 "nbformat": 4,
 "nbformat_minor": 5
}
